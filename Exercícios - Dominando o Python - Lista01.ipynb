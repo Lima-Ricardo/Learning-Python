{
 "cells": [
  {
   "cell_type": "markdown",
   "metadata": {
    "colab_type": "text",
    "id": "t8qG28pDnfuM"
   },
   "source": [
    "# Exercícios - Capítulo Dominando o Python"
   ]
  },
  {
   "cell_type": "markdown",
   "metadata": {
    "colab_type": "text",
    "id": "N9fXnHvPnfuN"
   },
   "source": [
    "1) Imprima a frase \"Eu sou Minerador de Dados!\""
   ]
  },
  {
   "cell_type": "code",
   "execution_count": 3,
   "metadata": {},
   "outputs": [
    {
     "name": "stdout",
     "output_type": "stream",
     "text": [
      "Eu sou um Minerador de Dados!\n"
     ]
    }
   ],
   "source": [
    "frase = \"Eu sou um Minerador de Dados!\"\n",
    "print(frase)"
   ]
  },
  {
   "cell_type": "markdown",
   "metadata": {
    "colab_type": "text",
    "id": "dK5aLDPDnfuO"
   },
   "source": [
    "2) Faça operações matemáticas de soma, subtração, multiplicação e divisão."
   ]
  },
  {
   "cell_type": "code",
   "execution_count": 5,
   "metadata": {},
   "outputs": [
    {
     "name": "stdout",
     "output_type": "stream",
     "text": [
      "15\n",
      "-5\n",
      "0.5\n",
      "50\n"
     ]
    }
   ],
   "source": [
    "num1 = 5\n",
    "num2 = 10\n",
    "\n",
    "print(num1+num2)\n",
    "print(num1-num2)\n",
    "print(num1/num2)\n",
    "print(num1*num2)"
   ]
  },
  {
   "cell_type": "markdown",
   "metadata": {
    "colab_type": "text",
    "id": "Y1hfyqi3nfuO"
   },
   "source": [
    "3) Imprima o tipo de um determinado valor inteiro."
   ]
  },
  {
   "cell_type": "code",
   "execution_count": 6,
   "metadata": {},
   "outputs": [
    {
     "name": "stdout",
     "output_type": "stream",
     "text": [
      "<class 'int'>\n"
     ]
    }
   ],
   "source": [
    "num1 = 5\n",
    "print(type(num1))"
   ]
  },
  {
   "cell_type": "markdown",
   "metadata": {
    "colab_type": "text",
    "id": "lpMenLb2nfuP"
   },
   "source": [
    "4) Converta o valor passado anteriormente para o tipo float"
   ]
  },
  {
   "cell_type": "code",
   "execution_count": 10,
   "metadata": {},
   "outputs": [
    {
     "data": {
      "text/plain": [
       "100.0"
      ]
     },
     "execution_count": 10,
     "metadata": {},
     "output_type": "execute_result"
    }
   ],
   "source": [
    "float(100)"
   ]
  },
  {
   "cell_type": "markdown",
   "metadata": {
    "colab_type": "text",
    "id": "L3naneHLnfuP"
   },
   "source": [
    "5) Faça a conversão do valor float recebido anteriormente para o tipo string"
   ]
  },
  {
   "cell_type": "markdown",
   "metadata": {
    "colab_type": "text",
    "id": "DfN6mDVonfuQ"
   },
   "source": [
    "6) Utilizando funções de arredonamento faça:\n",
    "- Arredonde o valor 2.898\n",
    "- Arredonde o valor 2.4545455 e exiba apenas 4 cadas decimais"
   ]
  },
  {
   "cell_type": "code",
   "execution_count": 11,
   "metadata": {},
   "outputs": [
    {
     "data": {
      "text/plain": [
       "2.4545"
      ]
     },
     "execution_count": 11,
     "metadata": {},
     "output_type": "execute_result"
    }
   ],
   "source": [
    "round(2.898)\n"
   ]
  },
  {
   "cell_type": "code",
   "execution_count": null,
   "metadata": {},
   "outputs": [],
   "source": [
    "round(2.4545455,4)"
   ]
  },
  {
   "cell_type": "markdown",
   "metadata": {
    "colab_type": "text",
    "id": "rKA0Gdl0nfuQ"
   },
   "source": [
    "7) Utilizando variáveis faça:\n",
    "- Defina uma variável com o seu nome e imprima o seu valor.\n",
    "- Imprima o tipo dessa variável.\n",
    "- Substitua o valor da sua variável nome com a concatenação do seu valor e o seu sobrenome, depois, imprima o novo valor.\n",
    "    - obs: O resultado dessa variável será Nome Sobrenome, exemplo, Felipe Santana.\n",
    "- Defina duas variaveis com os valores do seu email e idade com apenas uma linha de comando, depois, imprima seus valores."
   ]
  },
  {
   "cell_type": "code",
   "execution_count": 20,
   "metadata": {},
   "outputs": [
    {
     "name": "stdout",
     "output_type": "stream",
     "text": [
      "Ricardo\n"
     ]
    }
   ],
   "source": [
    "nome = \"Ricardo\"\n",
    "\n",
    "\n",
    "print(nome1)\n",
    "\n"
   ]
  },
  {
   "cell_type": "code",
   "execution_count": 21,
   "metadata": {},
   "outputs": [
    {
     "name": "stdout",
     "output_type": "stream",
     "text": [
      "Ricardo Lima\n"
     ]
    }
   ],
   "source": [
    "nome += \" Lima\"\n",
    "print(nome)"
   ]
  },
  {
   "cell_type": "code",
   "execution_count": 22,
   "metadata": {},
   "outputs": [
    {
     "data": {
      "text/plain": [
       "('ricardoalexdel@gmail.com', 34)"
      ]
     },
     "execution_count": 22,
     "metadata": {},
     "output_type": "execute_result"
    }
   ],
   "source": [
    "email, idade = \"ricardoalexdel@gmail.com\", 34\n",
    "email, idade"
   ]
  },
  {
   "cell_type": "markdown",
   "metadata": {
    "colab_type": "text",
    "id": "Xj8LZ11infuR"
   },
   "source": [
    "8) Explique a causa do erro se executar a seguinte instrução para criar uma nova variável: break=10"
   ]
  },
  {
   "cell_type": "markdown",
   "metadata": {},
   "source": [
    "Resposta: O Python não aceita declaração de variáveis utilizando palavras reservadas"
   ]
  },
  {
   "cell_type": "markdown",
   "metadata": {
    "colab_type": "text",
    "id": "UipeTegTnfuS"
   },
   "source": [
    "9) Sobre os objetos Strings, faça:\n",
    "- Defina uma variavel com a string: \"Python é uma maldição!\" e imprima\n",
    "- Imprima o primeiro caracter da variavel.\n",
    "- Imprima os valores do primeiro caracter até o 6.\n",
    "- Faça a contagem de todos os caracteres utilizando uma única linha de comando.\n",
    "- Faça uma contagem de quantos vezes a palavra dados aparece na seguinte frase:\n",
    "    - \"dados é o novo petróleo, em Deus eu confio, para o resto me traga dados..\"\n",
    "- Substitua o primeiro caracter da frase acima para maiúsculo\n",
    "- Quebre as palavras da frase separado por virgula, criando uma lista."
   ]
  },
  {
   "cell_type": "code",
   "execution_count": 25,
   "metadata": {},
   "outputs": [
    {
     "name": "stdout",
     "output_type": "stream",
     "text": [
      "P\n",
      "Python\n"
     ]
    },
    {
     "data": {
      "text/plain": [
       "22"
      ]
     },
     "execution_count": 25,
     "metadata": {},
     "output_type": "execute_result"
    }
   ],
   "source": [
    "string = \"Python é uma maldição!\"\n",
    "print(string[0])\n",
    "print(string[:6])\n",
    "len(string)"
   ]
  },
  {
   "cell_type": "code",
   "execution_count": 27,
   "metadata": {},
   "outputs": [
    {
     "data": {
      "text/plain": [
       "2"
      ]
     },
     "execution_count": 27,
     "metadata": {},
     "output_type": "execute_result"
    }
   ],
   "source": [
    "frase = \"dados é o novo petróleo, em Deus eu confio, para o resto me traga dados..\"\n",
    "frase.count(\"dados\")\n"
   ]
  },
  {
   "cell_type": "code",
   "execution_count": 28,
   "metadata": {},
   "outputs": [
    {
     "data": {
      "text/plain": [
       "'Dados é o novo petróleo, em deus eu confio, para o resto me traga dados..'"
      ]
     },
     "execution_count": 28,
     "metadata": {},
     "output_type": "execute_result"
    }
   ],
   "source": [
    "frase.capitalize()"
   ]
  },
  {
   "cell_type": "code",
   "execution_count": 29,
   "metadata": {},
   "outputs": [
    {
     "data": {
      "text/plain": [
       "['dados é o novo petróleo',\n",
       " ' em Deus eu confio',\n",
       " ' para o resto me traga dados..']"
      ]
     },
     "execution_count": 29,
     "metadata": {},
     "output_type": "execute_result"
    }
   ],
   "source": [
    "frase.split(',')"
   ]
  },
  {
   "cell_type": "markdown",
   "metadata": {
    "colab_type": "text",
    "id": "sOfK05ypnfuS"
   },
   "source": [
    "10) Trabalhando com Listas, faça:\n",
    "- Cria uma lista de valores inteiros com o nome idades.\n",
    "- Imprima apenas segundo elemento da lista.\n",
    "- Imprima a contagem de valores da lista.\n",
    "- Substitua o valor do segundo elemento da lista e imprima o resultado.\n",
    "- Imprima apenas os valores do segundo elemento em diante.\n",
    "- Remova qualquer elemento da lista e imprima o resultado.\n",
    "- Defina uma lista chamada salarios com os valores : 900,1200,1500,800,12587,10000.\n",
    "- Verifique se contém o valor 10000 na lista de salarios.\n",
    "- Imprima o menor e maior valor da lista.\n",
    "- Adicione o valor 7000 a lista.\n",
    "- Extenda a lista com dois novos elementos utilizando apenas um método.\n",
    "- Imprima o índice do elemento de valor 800 da lista de salarios.\n",
    "- Faça uma ordenação dos valores da lista de salarios em ordem crescente e decrescente."
   ]
  },
  {
   "cell_type": "code",
   "execution_count": 30,
   "metadata": {},
   "outputs": [],
   "source": [
    "idades = [18,22,45,38,78,25]"
   ]
  },
  {
   "cell_type": "code",
   "execution_count": 31,
   "metadata": {},
   "outputs": [
    {
     "data": {
      "text/plain": [
       "22"
      ]
     },
     "execution_count": 31,
     "metadata": {},
     "output_type": "execute_result"
    }
   ],
   "source": [
    "idades[1]"
   ]
  },
  {
   "cell_type": "code",
   "execution_count": 33,
   "metadata": {},
   "outputs": [
    {
     "data": {
      "text/plain": [
       "6"
      ]
     },
     "execution_count": 33,
     "metadata": {},
     "output_type": "execute_result"
    }
   ],
   "source": [
    "len(idades)"
   ]
  },
  {
   "cell_type": "code",
   "execution_count": 36,
   "metadata": {},
   "outputs": [
    {
     "data": {
      "text/plain": [
       "[18, 30, 45, 38, 78, 25]"
      ]
     },
     "execution_count": 36,
     "metadata": {},
     "output_type": "execute_result"
    }
   ],
   "source": [
    "idades[1] = 30\n",
    "idades"
   ]
  },
  {
   "cell_type": "code",
   "execution_count": 38,
   "metadata": {},
   "outputs": [
    {
     "name": "stdout",
     "output_type": "stream",
     "text": [
      "[30, 45, 38, 78]\n"
     ]
    }
   ],
   "source": [
    "print(idades[1:-1])\n",
    "\n"
   ]
  },
  {
   "cell_type": "code",
   "execution_count": 45,
   "metadata": {},
   "outputs": [],
   "source": [
    "valores = [900,1200,1500,800,12587,10000]\n"
   ]
  },
  {
   "cell_type": "code",
   "execution_count": 42,
   "metadata": {},
   "outputs": [
    {
     "data": {
      "text/plain": [
       "True"
      ]
     },
     "execution_count": 42,
     "metadata": {},
     "output_type": "execute_result"
    }
   ],
   "source": [
    "10000 in valores"
   ]
  },
  {
   "cell_type": "code",
   "execution_count": 46,
   "metadata": {},
   "outputs": [
    {
     "data": {
      "text/plain": [
       "[900, 1200, 1500, 800, 12587, 10000, 7000]"
      ]
     },
     "execution_count": 46,
     "metadata": {},
     "output_type": "execute_result"
    }
   ],
   "source": [
    "valores.append(7000)\n",
    "valores"
   ]
  },
  {
   "cell_type": "code",
   "execution_count": 47,
   "metadata": {},
   "outputs": [
    {
     "data": {
      "text/plain": [
       "12587"
      ]
     },
     "execution_count": 47,
     "metadata": {},
     "output_type": "execute_result"
    }
   ],
   "source": [
    "max(valores)\n"
   ]
  },
  {
   "cell_type": "code",
   "execution_count": 48,
   "metadata": {},
   "outputs": [],
   "source": [
    "valores.extend([990,1100])\n"
   ]
  },
  {
   "cell_type": "code",
   "execution_count": 50,
   "metadata": {},
   "outputs": [
    {
     "data": {
      "text/plain": [
       "3"
      ]
     },
     "execution_count": 50,
     "metadata": {},
     "output_type": "execute_result"
    }
   ],
   "source": [
    "valores.index(800)"
   ]
  },
  {
   "cell_type": "code",
   "execution_count": 51,
   "metadata": {},
   "outputs": [
    {
     "data": {
      "text/plain": [
       "800"
      ]
     },
     "execution_count": 51,
     "metadata": {},
     "output_type": "execute_result"
    }
   ],
   "source": [
    "min(valores)"
   ]
  },
  {
   "cell_type": "code",
   "execution_count": 52,
   "metadata": {},
   "outputs": [],
   "source": [
    "valores.remove(1100)"
   ]
  },
  {
   "cell_type": "code",
   "execution_count": 53,
   "metadata": {},
   "outputs": [],
   "source": [
    "valores.sort()"
   ]
  },
  {
   "cell_type": "code",
   "execution_count": 54,
   "metadata": {},
   "outputs": [],
   "source": [
    "valores.sort(reverse=True)"
   ]
  }
 ],
 "metadata": {
  "colab": {
   "name": "Lista 01 - Capitulo 03 - Dominando o Python.ipynb",
   "provenance": [],
   "version": "0.3.2"
  },
  "kernelspec": {
   "display_name": "Python 3 (ipykernel)",
   "language": "python",
   "name": "python3"
  },
  "language_info": {
   "codemirror_mode": {
    "name": "ipython",
    "version": 3
   },
   "file_extension": ".py",
   "mimetype": "text/x-python",
   "name": "python",
   "nbconvert_exporter": "python",
   "pygments_lexer": "ipython3",
   "version": "3.9.13"
  },
  "widgets": {
   "application/vnd.jupyter.widget-state+json": {
    "state": {},
    "version_major": 2,
    "version_minor": 0
   }
  }
 },
 "nbformat": 4,
 "nbformat_minor": 1
}
